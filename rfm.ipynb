{
 "cells": [
  {
   "cell_type": "code",
   "execution_count": 1,
   "id": "initial_id",
   "metadata": {
    "collapsed": true,
    "ExecuteTime": {
     "end_time": "2023-11-02T07:15:07.135628Z",
     "start_time": "2023-11-02T07:15:06.808807Z"
    }
   },
   "outputs": [],
   "source": [
    "import pandas as pd"
   ]
  },
  {
   "cell_type": "code",
   "execution_count": 48,
   "outputs": [
    {
     "name": "stderr",
     "output_type": "stream",
     "text": [
      "/var/folders/j5/_zyfcd891fd2sh3fg54z3gmh0000gn/T/ipykernel_9049/1649436523.py:1: DtypeWarning: Columns (11,12) have mixed types. Specify dtype option on import or set low_memory=False.\n",
      "  df = pd.read_csv('hackathon_data.csv')\n"
     ]
    }
   ],
   "source": [
    "df = pd.read_csv('hackathon_data.csv')"
   ],
   "metadata": {
    "collapsed": false,
    "ExecuteTime": {
     "end_time": "2023-11-02T07:53:48.990557Z",
     "start_time": "2023-11-02T07:53:47.660243Z"
    }
   },
   "id": "f2a01af65ce50116"
  },
  {
   "cell_type": "code",
   "execution_count": 49,
   "outputs": [
    {
     "data": {
      "text/plain": "               id          Marka     IsyeriTipi UyeDurum  \\\n0       301002470  Kzar kü pazar   Tüzel Şirket    Aktif   \n1       301002470  Kzar kü pazar   Tüzel Şirket    Aktif   \n2       301002470  Kzar kü pazar   Tüzel Şirket    Aktif   \n3       301002470  Kzar kü pazar   Tüzel Şirket    Aktif   \n4       301002470  Kzar kü pazar   Tüzel Şirket    Aktif   \n...           ...            ...            ...      ...   \n999995  301033049  Öket özmarket  Şahıs Şirketi    Pasif   \n999996  301033049  Öket özmarket  Şahıs Şirketi    Pasif   \n999997  301033049  Öket özmarket  Şahıs Şirketi    Pasif   \n999998  301033049  Öket özmarket  Şahıs Şirketi    Pasif   \n999999  301033049  Öket özmarket  Şahıs Şirketi    Pasif   \n\n                                                 UyeAdres      Sehir  \\\n0                KALE MAH. GAZİ CAD. 82 C İLKADIM/ SAMSUN     Samsun   \n1                KALE MAH. GAZİ CAD. 82 C İLKADIM/ SAMSUN     Samsun   \n2                KALE MAH. GAZİ CAD. 82 C İLKADIM/ SAMSUN     Samsun   \n3                KALE MAH. GAZİ CAD. 82 C İLKADIM/ SAMSUN     Samsun   \n4                KALE MAH. GAZİ CAD. 82 C İLKADIM/ SAMSUN     Samsun   \n...                                                   ...        ...   \n999995  ZEYTİNLİ MAH. 79114 NOLU CAD. NO: 1 İÇ KAPI NO...  Gaziantep   \n999996  ZEYTİNLİ MAH. 79114 NOLU CAD. NO: 1 İÇ KAPI NO...  Gaziantep   \n999997  ZEYTİNLİ MAH. 79114 NOLU CAD. NO: 1 İÇ KAPI NO...  Gaziantep   \n999998  ZEYTİNLİ MAH. 79114 NOLU CAD. NO: 1 İÇ KAPI NO...  Gaziantep   \n999999  ZEYTİNLİ MAH. 79114 NOLU CAD. NO: 1 İÇ KAPI NO...  Gaziantep   \n\n         UyeAktivasyonTarih    IslemID           IslemTarih  IslemTutar  \\\n0       2015-09-08 15:08:23  401003136  2015-09-18 14:35:04        5.00   \n1       2015-09-08 15:08:23  403526702  2019-04-13 13:31:00       32.70   \n2       2015-09-08 15:08:23  403529006  2019-04-13 19:30:00      998.05   \n3       2015-09-08 15:08:23  403530803  2019-04-14 13:52:00      105.75   \n4       2015-09-08 15:08:23  403531107  2019-04-14 15:09:00      163.00   \n...                     ...        ...                  ...         ...   \n999995  2019-01-31 15:47:21  547156206  2023-06-09 21:35:00       16.50   \n999996  2019-01-31 15:47:21  547160265  2023-06-09 21:44:00       77.00   \n999997  2019-01-31 15:47:21  547168209  2023-06-09 22:01:00       37.00   \n999998  2019-01-31 15:47:21  547172655  2023-06-09 22:15:00       80.00   \n999999  2019-01-31 15:47:21  547176522  2023-06-09 22:21:00       18.00   \n\n          Tercih Versiyon SurumTarih  \n0       CeptePos      NaN        NaN  \n1            ÖKC      NaN        NaN  \n2            ÖKC      NaN        NaN  \n3            ÖKC      NaN        NaN  \n4            ÖKC      NaN        NaN  \n...          ...      ...        ...  \n999995       ÖKC      NaN        NaN  \n999996       ÖKC      NaN        NaN  \n999997       ÖKC      NaN        NaN  \n999998       ÖKC      NaN        NaN  \n999999       ÖKC      NaN        NaN  \n\n[1000000 rows x 13 columns]",
      "text/html": "<div>\n<style scoped>\n    .dataframe tbody tr th:only-of-type {\n        vertical-align: middle;\n    }\n\n    .dataframe tbody tr th {\n        vertical-align: top;\n    }\n\n    .dataframe thead th {\n        text-align: right;\n    }\n</style>\n<table border=\"1\" class=\"dataframe\">\n  <thead>\n    <tr style=\"text-align: right;\">\n      <th></th>\n      <th>id</th>\n      <th>Marka</th>\n      <th>IsyeriTipi</th>\n      <th>UyeDurum</th>\n      <th>UyeAdres</th>\n      <th>Sehir</th>\n      <th>UyeAktivasyonTarih</th>\n      <th>IslemID</th>\n      <th>IslemTarih</th>\n      <th>IslemTutar</th>\n      <th>Tercih</th>\n      <th>Versiyon</th>\n      <th>SurumTarih</th>\n    </tr>\n  </thead>\n  <tbody>\n    <tr>\n      <th>0</th>\n      <td>301002470</td>\n      <td>Kzar kü pazar</td>\n      <td>Tüzel Şirket</td>\n      <td>Aktif</td>\n      <td>KALE MAH. GAZİ CAD. 82 C İLKADIM/ SAMSUN</td>\n      <td>Samsun</td>\n      <td>2015-09-08 15:08:23</td>\n      <td>401003136</td>\n      <td>2015-09-18 14:35:04</td>\n      <td>5.00</td>\n      <td>CeptePos</td>\n      <td>NaN</td>\n      <td>NaN</td>\n    </tr>\n    <tr>\n      <th>1</th>\n      <td>301002470</td>\n      <td>Kzar kü pazar</td>\n      <td>Tüzel Şirket</td>\n      <td>Aktif</td>\n      <td>KALE MAH. GAZİ CAD. 82 C İLKADIM/ SAMSUN</td>\n      <td>Samsun</td>\n      <td>2015-09-08 15:08:23</td>\n      <td>403526702</td>\n      <td>2019-04-13 13:31:00</td>\n      <td>32.70</td>\n      <td>ÖKC</td>\n      <td>NaN</td>\n      <td>NaN</td>\n    </tr>\n    <tr>\n      <th>2</th>\n      <td>301002470</td>\n      <td>Kzar kü pazar</td>\n      <td>Tüzel Şirket</td>\n      <td>Aktif</td>\n      <td>KALE MAH. GAZİ CAD. 82 C İLKADIM/ SAMSUN</td>\n      <td>Samsun</td>\n      <td>2015-09-08 15:08:23</td>\n      <td>403529006</td>\n      <td>2019-04-13 19:30:00</td>\n      <td>998.05</td>\n      <td>ÖKC</td>\n      <td>NaN</td>\n      <td>NaN</td>\n    </tr>\n    <tr>\n      <th>3</th>\n      <td>301002470</td>\n      <td>Kzar kü pazar</td>\n      <td>Tüzel Şirket</td>\n      <td>Aktif</td>\n      <td>KALE MAH. GAZİ CAD. 82 C İLKADIM/ SAMSUN</td>\n      <td>Samsun</td>\n      <td>2015-09-08 15:08:23</td>\n      <td>403530803</td>\n      <td>2019-04-14 13:52:00</td>\n      <td>105.75</td>\n      <td>ÖKC</td>\n      <td>NaN</td>\n      <td>NaN</td>\n    </tr>\n    <tr>\n      <th>4</th>\n      <td>301002470</td>\n      <td>Kzar kü pazar</td>\n      <td>Tüzel Şirket</td>\n      <td>Aktif</td>\n      <td>KALE MAH. GAZİ CAD. 82 C İLKADIM/ SAMSUN</td>\n      <td>Samsun</td>\n      <td>2015-09-08 15:08:23</td>\n      <td>403531107</td>\n      <td>2019-04-14 15:09:00</td>\n      <td>163.00</td>\n      <td>ÖKC</td>\n      <td>NaN</td>\n      <td>NaN</td>\n    </tr>\n    <tr>\n      <th>...</th>\n      <td>...</td>\n      <td>...</td>\n      <td>...</td>\n      <td>...</td>\n      <td>...</td>\n      <td>...</td>\n      <td>...</td>\n      <td>...</td>\n      <td>...</td>\n      <td>...</td>\n      <td>...</td>\n      <td>...</td>\n      <td>...</td>\n    </tr>\n    <tr>\n      <th>999995</th>\n      <td>301033049</td>\n      <td>Öket özmarket</td>\n      <td>Şahıs Şirketi</td>\n      <td>Pasif</td>\n      <td>ZEYTİNLİ MAH. 79114 NOLU CAD. NO: 1 İÇ KAPI NO...</td>\n      <td>Gaziantep</td>\n      <td>2019-01-31 15:47:21</td>\n      <td>547156206</td>\n      <td>2023-06-09 21:35:00</td>\n      <td>16.50</td>\n      <td>ÖKC</td>\n      <td>NaN</td>\n      <td>NaN</td>\n    </tr>\n    <tr>\n      <th>999996</th>\n      <td>301033049</td>\n      <td>Öket özmarket</td>\n      <td>Şahıs Şirketi</td>\n      <td>Pasif</td>\n      <td>ZEYTİNLİ MAH. 79114 NOLU CAD. NO: 1 İÇ KAPI NO...</td>\n      <td>Gaziantep</td>\n      <td>2019-01-31 15:47:21</td>\n      <td>547160265</td>\n      <td>2023-06-09 21:44:00</td>\n      <td>77.00</td>\n      <td>ÖKC</td>\n      <td>NaN</td>\n      <td>NaN</td>\n    </tr>\n    <tr>\n      <th>999997</th>\n      <td>301033049</td>\n      <td>Öket özmarket</td>\n      <td>Şahıs Şirketi</td>\n      <td>Pasif</td>\n      <td>ZEYTİNLİ MAH. 79114 NOLU CAD. NO: 1 İÇ KAPI NO...</td>\n      <td>Gaziantep</td>\n      <td>2019-01-31 15:47:21</td>\n      <td>547168209</td>\n      <td>2023-06-09 22:01:00</td>\n      <td>37.00</td>\n      <td>ÖKC</td>\n      <td>NaN</td>\n      <td>NaN</td>\n    </tr>\n    <tr>\n      <th>999998</th>\n      <td>301033049</td>\n      <td>Öket özmarket</td>\n      <td>Şahıs Şirketi</td>\n      <td>Pasif</td>\n      <td>ZEYTİNLİ MAH. 79114 NOLU CAD. NO: 1 İÇ KAPI NO...</td>\n      <td>Gaziantep</td>\n      <td>2019-01-31 15:47:21</td>\n      <td>547172655</td>\n      <td>2023-06-09 22:15:00</td>\n      <td>80.00</td>\n      <td>ÖKC</td>\n      <td>NaN</td>\n      <td>NaN</td>\n    </tr>\n    <tr>\n      <th>999999</th>\n      <td>301033049</td>\n      <td>Öket özmarket</td>\n      <td>Şahıs Şirketi</td>\n      <td>Pasif</td>\n      <td>ZEYTİNLİ MAH. 79114 NOLU CAD. NO: 1 İÇ KAPI NO...</td>\n      <td>Gaziantep</td>\n      <td>2019-01-31 15:47:21</td>\n      <td>547176522</td>\n      <td>2023-06-09 22:21:00</td>\n      <td>18.00</td>\n      <td>ÖKC</td>\n      <td>NaN</td>\n      <td>NaN</td>\n    </tr>\n  </tbody>\n</table>\n<p>1000000 rows × 13 columns</p>\n</div>"
     },
     "execution_count": 49,
     "metadata": {},
     "output_type": "execute_result"
    }
   ],
   "source": [
    "df"
   ],
   "metadata": {
    "collapsed": false,
    "ExecuteTime": {
     "end_time": "2023-11-02T07:53:50.050722Z",
     "start_time": "2023-11-02T07:53:50.028772Z"
    }
   },
   "id": "2b973c3d62957759"
  },
  {
   "cell_type": "code",
   "execution_count": 50,
   "outputs": [
    {
     "name": "stdout",
     "output_type": "stream",
     "text": [
      "<class 'pandas.core.frame.DataFrame'>\n",
      "RangeIndex: 1000000 entries, 0 to 999999\n",
      "Data columns (total 13 columns):\n",
      " #   Column              Non-Null Count    Dtype  \n",
      "---  ------              --------------    -----  \n",
      " 0   id                  1000000 non-null  int64  \n",
      " 1   Marka               1000000 non-null  object \n",
      " 2   IsyeriTipi          1000000 non-null  object \n",
      " 3   UyeDurum            1000000 non-null  object \n",
      " 4   UyeAdres            1000000 non-null  object \n",
      " 5   Sehir               1000000 non-null  object \n",
      " 6   UyeAktivasyonTarih  1000000 non-null  object \n",
      " 7   IslemID             1000000 non-null  int64  \n",
      " 8   IslemTarih          1000000 non-null  object \n",
      " 9   IslemTutar          1000000 non-null  float64\n",
      " 10  Tercih              1000000 non-null  object \n",
      " 11  Versiyon            23643 non-null    object \n",
      " 12  SurumTarih          23643 non-null    object \n",
      "dtypes: float64(1), int64(2), object(10)\n",
      "memory usage: 99.2+ MB\n"
     ]
    }
   ],
   "source": [
    "df.info()"
   ],
   "metadata": {
    "collapsed": false,
    "ExecuteTime": {
     "end_time": "2023-11-02T07:53:51.995641Z",
     "start_time": "2023-11-02T07:53:51.841961Z"
    }
   },
   "id": "ea0ebd883e739c70"
  },
  {
   "cell_type": "code",
   "execution_count": 51,
   "outputs": [],
   "source": [
    "def dynamic_qcut(column, labels):\n",
    "    _, bins = pd.qcut(column, q=4, retbins=True, duplicates='drop')\n",
    "    n = len(bins) - 1\n",
    "    return pd.cut(column, bins=bins, labels=labels[-n:], duplicates='drop', include_lowest=True)\n",
    "\n"
   ],
   "metadata": {
    "collapsed": false,
    "ExecuteTime": {
     "end_time": "2023-11-02T07:53:52.741168Z",
     "start_time": "2023-11-02T07:53:52.725285Z"
    }
   },
   "id": "6ae543349c8322c8"
  },
  {
   "cell_type": "code",
   "execution_count": 52,
   "outputs": [],
   "source": [
    "df['IslemTarih'] = pd.to_datetime(df['IslemTarih'])\n",
    "# Yapılan son alışveriş tarihine göre alıyorum veriler akan veri olmadıgı için.\n",
    "latest_date = df['IslemTarih'].max()\n",
    "\n",
    "rfm = df.groupby('id').agg({\n",
    "    'IslemTarih': lambda date: (latest_date - date.max()).days,\n",
    "    'IslemID': 'count',\n",
    "    'IslemTutar': 'sum'\n",
    "})\n",
    "\n",
    "rfm.columns = ['Recency', 'Frequency', 'Monetary']\n",
    "\n",
    "rfm['R'] = dynamic_qcut(rfm['Recency'], labels=[4, 3, 2, 1])\n",
    "rfm['F'] = dynamic_qcut(rfm['Frequency'], labels=[1, 2, 3, 4])\n",
    "rfm['M'] = dynamic_qcut(rfm['Monetary'], labels=[1, 2, 3, 4])\n",
    "\n",
    "rfm['RFM_Segment'] = rfm.apply(lambda x: str(x['R']) + str(x['F']) + str(x['M']), axis=1)\n",
    "rfm['RFM_Score'] = rfm[['R', 'F', 'M']].sum(axis=1)\n"
   ],
   "metadata": {
    "collapsed": false,
    "ExecuteTime": {
     "end_time": "2023-11-02T07:53:53.582286Z",
     "start_time": "2023-11-02T07:53:53.428666Z"
    }
   },
   "id": "575d1df08fd8a7ae"
  },
  {
   "cell_type": "code",
   "execution_count": 53,
   "outputs": [
    {
     "data": {
      "text/plain": "           Recency  Frequency     Monetary  R  F  M RFM_Segment  RFM_Score\nid                                                                        \n301002470        0      24792   7336237.24  3  3  4   3.03.04.0         10\n301002583     1037        143      2044.92  1  1  1   1.01.01.0          3\n301003354        0      30616   2824086.73  3  4  3   3.04.03.0         10\n301006906      408      47613   2625627.54  1  4  3   1.04.03.0          8\n301009366      401      19129   1600709.59  2  3  2   2.03.02.0          7\n301009412       22          4      1228.17  3  1  1   3.01.01.0          5\n301009682        0      14961  19729153.60  3  1  4   3.01.04.0          8\n301010389     1264      16844    538330.90  1  2  1   1.02.01.0          4\n301012873        0      21588   1016291.94  3  3  2   3.03.02.0          8\n301014561        0      19101   2268175.21  3  3  3   3.03.03.0          9\n301015331        0      25489   4813767.77  3  3  4   3.03.04.0         10\n301018129     1867          2        20.00  1  1  1   1.01.01.0          3\n301019658       49      22879   4979624.90  2  3  4   2.03.04.0          9\n301020464        0      17642   3360962.51  3  2  3   3.02.03.0          8\n301021277        0      10150  11484870.63  3  1  4   3.01.04.0          8\n301023021        0      13794  21967130.96  3  1  4   3.01.04.0          8\n301024520        0      16228    767724.72  3  2  1   3.02.01.0          6\n301024729      108      30742   1029485.34  2  4  2   2.04.02.0          8\n301025172        0      49235   2640420.33  3  4  3   3.04.03.0         10\n301025251     1920          5       500.00  1  1  1   1.01.01.0          3\n301025608        0     156603  12477600.41  3  4  4   3.04.04.0         11\n301026102        0      29082   1121508.94  3  4  2   3.04.02.0          9\n301026135        0      15193   2251433.01  3  1  3   3.01.03.0          7\n301026224        0      12117  10636344.66  3  1  4   3.01.04.0          8\n301026287        0      26731   1390167.81  3  3  2   3.03.02.0          8\n301026648      908      15463    914621.44  1  2  2   1.02.02.0          5\n301026840      139      78259   3601608.10  2  4  3   2.04.03.0          9\n301026958      904         10        35.25  1  1  1   1.01.01.0          3\n301027114       99      17531   1713862.32  2  2  2   2.02.02.0          6\n301029464      346      18004    451458.73  2  2  1   2.02.01.0          5\n301029860     1428      18351   1517415.69  1  2  2   1.02.02.0          5\n301030119        0      17233   2333811.07  3  2  3   3.02.03.0          8\n301030448       62      18257    558967.49  2  2  1   2.02.01.0          5\n301031149      890      28990    804918.38  1  3  1   1.03.01.0          5\n301031272        0      33832   5116620.73  3  4  4   3.04.04.0         11\n301031339       55      27735   2338707.81  2  3  3   2.03.03.0          8\n301032425        1      52465   5381687.90  3  4  4   3.04.04.0         11\n301032496     1064      18673   1122833.54  1  2  2   1.02.02.0          5\n301033049      138      34514   1748947.07  2  4  2   2.04.02.0          8",
      "text/html": "<div>\n<style scoped>\n    .dataframe tbody tr th:only-of-type {\n        vertical-align: middle;\n    }\n\n    .dataframe tbody tr th {\n        vertical-align: top;\n    }\n\n    .dataframe thead th {\n        text-align: right;\n    }\n</style>\n<table border=\"1\" class=\"dataframe\">\n  <thead>\n    <tr style=\"text-align: right;\">\n      <th></th>\n      <th>Recency</th>\n      <th>Frequency</th>\n      <th>Monetary</th>\n      <th>R</th>\n      <th>F</th>\n      <th>M</th>\n      <th>RFM_Segment</th>\n      <th>RFM_Score</th>\n    </tr>\n    <tr>\n      <th>id</th>\n      <th></th>\n      <th></th>\n      <th></th>\n      <th></th>\n      <th></th>\n      <th></th>\n      <th></th>\n      <th></th>\n    </tr>\n  </thead>\n  <tbody>\n    <tr>\n      <th>301002470</th>\n      <td>0</td>\n      <td>24792</td>\n      <td>7336237.24</td>\n      <td>3</td>\n      <td>3</td>\n      <td>4</td>\n      <td>3.03.04.0</td>\n      <td>10</td>\n    </tr>\n    <tr>\n      <th>301002583</th>\n      <td>1037</td>\n      <td>143</td>\n      <td>2044.92</td>\n      <td>1</td>\n      <td>1</td>\n      <td>1</td>\n      <td>1.01.01.0</td>\n      <td>3</td>\n    </tr>\n    <tr>\n      <th>301003354</th>\n      <td>0</td>\n      <td>30616</td>\n      <td>2824086.73</td>\n      <td>3</td>\n      <td>4</td>\n      <td>3</td>\n      <td>3.04.03.0</td>\n      <td>10</td>\n    </tr>\n    <tr>\n      <th>301006906</th>\n      <td>408</td>\n      <td>47613</td>\n      <td>2625627.54</td>\n      <td>1</td>\n      <td>4</td>\n      <td>3</td>\n      <td>1.04.03.0</td>\n      <td>8</td>\n    </tr>\n    <tr>\n      <th>301009366</th>\n      <td>401</td>\n      <td>19129</td>\n      <td>1600709.59</td>\n      <td>2</td>\n      <td>3</td>\n      <td>2</td>\n      <td>2.03.02.0</td>\n      <td>7</td>\n    </tr>\n    <tr>\n      <th>301009412</th>\n      <td>22</td>\n      <td>4</td>\n      <td>1228.17</td>\n      <td>3</td>\n      <td>1</td>\n      <td>1</td>\n      <td>3.01.01.0</td>\n      <td>5</td>\n    </tr>\n    <tr>\n      <th>301009682</th>\n      <td>0</td>\n      <td>14961</td>\n      <td>19729153.60</td>\n      <td>3</td>\n      <td>1</td>\n      <td>4</td>\n      <td>3.01.04.0</td>\n      <td>8</td>\n    </tr>\n    <tr>\n      <th>301010389</th>\n      <td>1264</td>\n      <td>16844</td>\n      <td>538330.90</td>\n      <td>1</td>\n      <td>2</td>\n      <td>1</td>\n      <td>1.02.01.0</td>\n      <td>4</td>\n    </tr>\n    <tr>\n      <th>301012873</th>\n      <td>0</td>\n      <td>21588</td>\n      <td>1016291.94</td>\n      <td>3</td>\n      <td>3</td>\n      <td>2</td>\n      <td>3.03.02.0</td>\n      <td>8</td>\n    </tr>\n    <tr>\n      <th>301014561</th>\n      <td>0</td>\n      <td>19101</td>\n      <td>2268175.21</td>\n      <td>3</td>\n      <td>3</td>\n      <td>3</td>\n      <td>3.03.03.0</td>\n      <td>9</td>\n    </tr>\n    <tr>\n      <th>301015331</th>\n      <td>0</td>\n      <td>25489</td>\n      <td>4813767.77</td>\n      <td>3</td>\n      <td>3</td>\n      <td>4</td>\n      <td>3.03.04.0</td>\n      <td>10</td>\n    </tr>\n    <tr>\n      <th>301018129</th>\n      <td>1867</td>\n      <td>2</td>\n      <td>20.00</td>\n      <td>1</td>\n      <td>1</td>\n      <td>1</td>\n      <td>1.01.01.0</td>\n      <td>3</td>\n    </tr>\n    <tr>\n      <th>301019658</th>\n      <td>49</td>\n      <td>22879</td>\n      <td>4979624.90</td>\n      <td>2</td>\n      <td>3</td>\n      <td>4</td>\n      <td>2.03.04.0</td>\n      <td>9</td>\n    </tr>\n    <tr>\n      <th>301020464</th>\n      <td>0</td>\n      <td>17642</td>\n      <td>3360962.51</td>\n      <td>3</td>\n      <td>2</td>\n      <td>3</td>\n      <td>3.02.03.0</td>\n      <td>8</td>\n    </tr>\n    <tr>\n      <th>301021277</th>\n      <td>0</td>\n      <td>10150</td>\n      <td>11484870.63</td>\n      <td>3</td>\n      <td>1</td>\n      <td>4</td>\n      <td>3.01.04.0</td>\n      <td>8</td>\n    </tr>\n    <tr>\n      <th>301023021</th>\n      <td>0</td>\n      <td>13794</td>\n      <td>21967130.96</td>\n      <td>3</td>\n      <td>1</td>\n      <td>4</td>\n      <td>3.01.04.0</td>\n      <td>8</td>\n    </tr>\n    <tr>\n      <th>301024520</th>\n      <td>0</td>\n      <td>16228</td>\n      <td>767724.72</td>\n      <td>3</td>\n      <td>2</td>\n      <td>1</td>\n      <td>3.02.01.0</td>\n      <td>6</td>\n    </tr>\n    <tr>\n      <th>301024729</th>\n      <td>108</td>\n      <td>30742</td>\n      <td>1029485.34</td>\n      <td>2</td>\n      <td>4</td>\n      <td>2</td>\n      <td>2.04.02.0</td>\n      <td>8</td>\n    </tr>\n    <tr>\n      <th>301025172</th>\n      <td>0</td>\n      <td>49235</td>\n      <td>2640420.33</td>\n      <td>3</td>\n      <td>4</td>\n      <td>3</td>\n      <td>3.04.03.0</td>\n      <td>10</td>\n    </tr>\n    <tr>\n      <th>301025251</th>\n      <td>1920</td>\n      <td>5</td>\n      <td>500.00</td>\n      <td>1</td>\n      <td>1</td>\n      <td>1</td>\n      <td>1.01.01.0</td>\n      <td>3</td>\n    </tr>\n    <tr>\n      <th>301025608</th>\n      <td>0</td>\n      <td>156603</td>\n      <td>12477600.41</td>\n      <td>3</td>\n      <td>4</td>\n      <td>4</td>\n      <td>3.04.04.0</td>\n      <td>11</td>\n    </tr>\n    <tr>\n      <th>301026102</th>\n      <td>0</td>\n      <td>29082</td>\n      <td>1121508.94</td>\n      <td>3</td>\n      <td>4</td>\n      <td>2</td>\n      <td>3.04.02.0</td>\n      <td>9</td>\n    </tr>\n    <tr>\n      <th>301026135</th>\n      <td>0</td>\n      <td>15193</td>\n      <td>2251433.01</td>\n      <td>3</td>\n      <td>1</td>\n      <td>3</td>\n      <td>3.01.03.0</td>\n      <td>7</td>\n    </tr>\n    <tr>\n      <th>301026224</th>\n      <td>0</td>\n      <td>12117</td>\n      <td>10636344.66</td>\n      <td>3</td>\n      <td>1</td>\n      <td>4</td>\n      <td>3.01.04.0</td>\n      <td>8</td>\n    </tr>\n    <tr>\n      <th>301026287</th>\n      <td>0</td>\n      <td>26731</td>\n      <td>1390167.81</td>\n      <td>3</td>\n      <td>3</td>\n      <td>2</td>\n      <td>3.03.02.0</td>\n      <td>8</td>\n    </tr>\n    <tr>\n      <th>301026648</th>\n      <td>908</td>\n      <td>15463</td>\n      <td>914621.44</td>\n      <td>1</td>\n      <td>2</td>\n      <td>2</td>\n      <td>1.02.02.0</td>\n      <td>5</td>\n    </tr>\n    <tr>\n      <th>301026840</th>\n      <td>139</td>\n      <td>78259</td>\n      <td>3601608.10</td>\n      <td>2</td>\n      <td>4</td>\n      <td>3</td>\n      <td>2.04.03.0</td>\n      <td>9</td>\n    </tr>\n    <tr>\n      <th>301026958</th>\n      <td>904</td>\n      <td>10</td>\n      <td>35.25</td>\n      <td>1</td>\n      <td>1</td>\n      <td>1</td>\n      <td>1.01.01.0</td>\n      <td>3</td>\n    </tr>\n    <tr>\n      <th>301027114</th>\n      <td>99</td>\n      <td>17531</td>\n      <td>1713862.32</td>\n      <td>2</td>\n      <td>2</td>\n      <td>2</td>\n      <td>2.02.02.0</td>\n      <td>6</td>\n    </tr>\n    <tr>\n      <th>301029464</th>\n      <td>346</td>\n      <td>18004</td>\n      <td>451458.73</td>\n      <td>2</td>\n      <td>2</td>\n      <td>1</td>\n      <td>2.02.01.0</td>\n      <td>5</td>\n    </tr>\n    <tr>\n      <th>301029860</th>\n      <td>1428</td>\n      <td>18351</td>\n      <td>1517415.69</td>\n      <td>1</td>\n      <td>2</td>\n      <td>2</td>\n      <td>1.02.02.0</td>\n      <td>5</td>\n    </tr>\n    <tr>\n      <th>301030119</th>\n      <td>0</td>\n      <td>17233</td>\n      <td>2333811.07</td>\n      <td>3</td>\n      <td>2</td>\n      <td>3</td>\n      <td>3.02.03.0</td>\n      <td>8</td>\n    </tr>\n    <tr>\n      <th>301030448</th>\n      <td>62</td>\n      <td>18257</td>\n      <td>558967.49</td>\n      <td>2</td>\n      <td>2</td>\n      <td>1</td>\n      <td>2.02.01.0</td>\n      <td>5</td>\n    </tr>\n    <tr>\n      <th>301031149</th>\n      <td>890</td>\n      <td>28990</td>\n      <td>804918.38</td>\n      <td>1</td>\n      <td>3</td>\n      <td>1</td>\n      <td>1.03.01.0</td>\n      <td>5</td>\n    </tr>\n    <tr>\n      <th>301031272</th>\n      <td>0</td>\n      <td>33832</td>\n      <td>5116620.73</td>\n      <td>3</td>\n      <td>4</td>\n      <td>4</td>\n      <td>3.04.04.0</td>\n      <td>11</td>\n    </tr>\n    <tr>\n      <th>301031339</th>\n      <td>55</td>\n      <td>27735</td>\n      <td>2338707.81</td>\n      <td>2</td>\n      <td>3</td>\n      <td>3</td>\n      <td>2.03.03.0</td>\n      <td>8</td>\n    </tr>\n    <tr>\n      <th>301032425</th>\n      <td>1</td>\n      <td>52465</td>\n      <td>5381687.90</td>\n      <td>3</td>\n      <td>4</td>\n      <td>4</td>\n      <td>3.04.04.0</td>\n      <td>11</td>\n    </tr>\n    <tr>\n      <th>301032496</th>\n      <td>1064</td>\n      <td>18673</td>\n      <td>1122833.54</td>\n      <td>1</td>\n      <td>2</td>\n      <td>2</td>\n      <td>1.02.02.0</td>\n      <td>5</td>\n    </tr>\n    <tr>\n      <th>301033049</th>\n      <td>138</td>\n      <td>34514</td>\n      <td>1748947.07</td>\n      <td>2</td>\n      <td>4</td>\n      <td>2</td>\n      <td>2.04.02.0</td>\n      <td>8</td>\n    </tr>\n  </tbody>\n</table>\n</div>"
     },
     "execution_count": 53,
     "metadata": {},
     "output_type": "execute_result"
    }
   ],
   "source": [
    "rfm"
   ],
   "metadata": {
    "collapsed": false,
    "ExecuteTime": {
     "end_time": "2023-11-02T07:53:54.253528Z",
     "start_time": "2023-11-02T07:53:54.230282Z"
    }
   },
   "id": "df8ca364fd4a58a8"
  },
  {
   "cell_type": "code",
   "execution_count": 54,
   "outputs": [
    {
     "data": {
      "text/plain": "11"
     },
     "execution_count": 54,
     "metadata": {},
     "output_type": "execute_result"
    }
   ],
   "source": [
    "rfm['RFM_Score'].max()"
   ],
   "metadata": {
    "collapsed": false,
    "ExecuteTime": {
     "end_time": "2023-11-02T07:53:56.180617Z",
     "start_time": "2023-11-02T07:53:56.052548Z"
    }
   },
   "id": "64e1e79f0df3855f"
  },
  {
   "cell_type": "code",
   "execution_count": 55,
   "outputs": [
    {
     "data": {
      "text/plain": "3"
     },
     "execution_count": 55,
     "metadata": {},
     "output_type": "execute_result"
    }
   ],
   "source": [
    "rfm['RFM_Score'].min()"
   ],
   "metadata": {
    "collapsed": false,
    "ExecuteTime": {
     "end_time": "2023-11-02T07:53:57.213659Z",
     "start_time": "2023-11-02T07:53:57.193160Z"
    }
   },
   "id": "431db638a18a0c6d"
  },
  {
   "cell_type": "code",
   "execution_count": 56,
   "outputs": [
    {
     "data": {
      "text/plain": "7.230769230769231"
     },
     "execution_count": 56,
     "metadata": {},
     "output_type": "execute_result"
    }
   ],
   "source": [
    "rfm['RFM_Score'].mean()"
   ],
   "metadata": {
    "collapsed": false,
    "ExecuteTime": {
     "end_time": "2023-11-02T07:53:57.838927Z",
     "start_time": "2023-11-02T07:53:57.823356Z"
    }
   },
   "id": "2988986db8426ae5"
  },
  {
   "cell_type": "code",
   "execution_count": 57,
   "outputs": [
    {
     "data": {
      "text/plain": "2.3671161497477815"
     },
     "execution_count": 57,
     "metadata": {},
     "output_type": "execute_result"
    }
   ],
   "source": [
    "rfm['RFM_Score'].std()"
   ],
   "metadata": {
    "collapsed": false,
    "ExecuteTime": {
     "end_time": "2023-11-02T07:53:59.154283Z",
     "start_time": "2023-11-02T07:53:59.055245Z"
    }
   },
   "id": "20ef8a50eb08cccb"
  },
  {
   "cell_type": "code",
   "execution_count": 58,
   "outputs": [],
   "source": [
    "def get_rfm_status(row):\n",
    "    score = row['RFM_Score']\n",
    "    avg_score = rfm['RFM_Score'].mean()\n",
    "    std_score = rfm['RFM_Score'].std()\n",
    "    \n",
    "    if score >= (avg_score + std_score):\n",
    "        return \"Platinum\"\n",
    "    elif (avg_score + std_score) > score >= avg_score:\n",
    "        return \"Altın\"\n",
    "    elif avg_score > score >= (avg_score - std_score):\n",
    "        return \"Gümüş\"\n",
    "    else:\n",
    "        return \"Bronz\"\n",
    "\n",
    "def get_rfm_description(row):\n",
    "    status = row['Status']\n",
    "    \n",
    "    if status == \"Platinum\":\n",
    "        return \"Yüksek değerli müşteri. Ortalamanın çok üzerinde sıklık ve para değeri.\"\n",
    "    elif status == \"Altın\":\n",
    "        return \"Orta değerli müşteri. Ortalamanın üzerinde sıklık ve para değeri.\"\n",
    "    elif status == \"Gümüş\":\n",
    "        return \"Düşük-orta değerli müşteri. Ortalamanın altında sıklık ve para değeri, ancak en düşük değil.\"\n",
    "    elif status == \"Bronz\":\n",
    "        return \"Düşük değerli müşteri. Ortalamanın çok altında sıklık ve para değeri.\"\n",
    "    else:\n",
    "        return \"Tanımsız\"\n",
    "\n",
    "rfm['Status'] = rfm.apply(get_rfm_status, axis=1)\n",
    "rfm['Description'] = rfm.apply(get_rfm_description, axis=1)\n"
   ],
   "metadata": {
    "collapsed": false,
    "ExecuteTime": {
     "end_time": "2023-11-02T07:54:00.499396Z",
     "start_time": "2023-11-02T07:54:00.482378Z"
    }
   },
   "id": "a2ec944093d633fa"
  },
  {
   "cell_type": "code",
   "execution_count": 59,
   "outputs": [],
   "source": [
    "rfm.reset_index(inplace=True)"
   ],
   "metadata": {
    "collapsed": false,
    "ExecuteTime": {
     "end_time": "2023-11-02T07:54:02.238924Z",
     "start_time": "2023-11-02T07:54:02.222710Z"
    }
   },
   "id": "12df87c967ea6fa9"
  },
  {
   "cell_type": "code",
   "execution_count": 60,
   "outputs": [],
   "source": [
    "rfm.to_csv('Customer_rfm.csv', index=False)"
   ],
   "metadata": {
    "collapsed": false,
    "ExecuteTime": {
     "end_time": "2023-11-02T07:54:04.799617Z",
     "start_time": "2023-11-02T07:54:04.742968Z"
    }
   },
   "id": "748bd07e1a3b1c4f"
  },
  {
   "cell_type": "code",
   "execution_count": 61,
   "outputs": [
    {
     "data": {
      "text/plain": "           id  Recency  Frequency     Monetary  R  F  M RFM_Segment  \\\n0   301002470        0      24792   7336237.24  3  3  4   3.03.04.0   \n1   301002583     1037        143      2044.92  1  1  1   1.01.01.0   \n2   301003354        0      30616   2824086.73  3  4  3   3.04.03.0   \n3   301006906      408      47613   2625627.54  1  4  3   1.04.03.0   \n4   301009366      401      19129   1600709.59  2  3  2   2.03.02.0   \n5   301009412       22          4      1228.17  3  1  1   3.01.01.0   \n6   301009682        0      14961  19729153.60  3  1  4   3.01.04.0   \n7   301010389     1264      16844    538330.90  1  2  1   1.02.01.0   \n8   301012873        0      21588   1016291.94  3  3  2   3.03.02.0   \n9   301014561        0      19101   2268175.21  3  3  3   3.03.03.0   \n10  301015331        0      25489   4813767.77  3  3  4   3.03.04.0   \n11  301018129     1867          2        20.00  1  1  1   1.01.01.0   \n12  301019658       49      22879   4979624.90  2  3  4   2.03.04.0   \n13  301020464        0      17642   3360962.51  3  2  3   3.02.03.0   \n14  301021277        0      10150  11484870.63  3  1  4   3.01.04.0   \n15  301023021        0      13794  21967130.96  3  1  4   3.01.04.0   \n16  301024520        0      16228    767724.72  3  2  1   3.02.01.0   \n17  301024729      108      30742   1029485.34  2  4  2   2.04.02.0   \n18  301025172        0      49235   2640420.33  3  4  3   3.04.03.0   \n19  301025251     1920          5       500.00  1  1  1   1.01.01.0   \n20  301025608        0     156603  12477600.41  3  4  4   3.04.04.0   \n21  301026102        0      29082   1121508.94  3  4  2   3.04.02.0   \n22  301026135        0      15193   2251433.01  3  1  3   3.01.03.0   \n23  301026224        0      12117  10636344.66  3  1  4   3.01.04.0   \n24  301026287        0      26731   1390167.81  3  3  2   3.03.02.0   \n25  301026648      908      15463    914621.44  1  2  2   1.02.02.0   \n26  301026840      139      78259   3601608.10  2  4  3   2.04.03.0   \n27  301026958      904         10        35.25  1  1  1   1.01.01.0   \n28  301027114       99      17531   1713862.32  2  2  2   2.02.02.0   \n29  301029464      346      18004    451458.73  2  2  1   2.02.01.0   \n30  301029860     1428      18351   1517415.69  1  2  2   1.02.02.0   \n31  301030119        0      17233   2333811.07  3  2  3   3.02.03.0   \n32  301030448       62      18257    558967.49  2  2  1   2.02.01.0   \n33  301031149      890      28990    804918.38  1  3  1   1.03.01.0   \n34  301031272        0      33832   5116620.73  3  4  4   3.04.04.0   \n35  301031339       55      27735   2338707.81  2  3  3   2.03.03.0   \n36  301032425        1      52465   5381687.90  3  4  4   3.04.04.0   \n37  301032496     1064      18673   1122833.54  1  2  2   1.02.02.0   \n38  301033049      138      34514   1748947.07  2  4  2   2.04.02.0   \n\n    RFM_Score    Status                                        Description  \n0          10  Platinum  Yüksek değerli müşteri. Ortalamanın çok üzerin...  \n1           3     Bronz  Düşük değerli müşteri. Ortalamanın çok altında...  \n2          10  Platinum  Yüksek değerli müşteri. Ortalamanın çok üzerin...  \n3           8     Altın  Orta değerli müşteri. Ortalamanın üzerinde sık...  \n4           7     Gümüş  Düşük-orta değerli müşteri. Ortalamanın altınd...  \n5           5     Gümüş  Düşük-orta değerli müşteri. Ortalamanın altınd...  \n6           8     Altın  Orta değerli müşteri. Ortalamanın üzerinde sık...  \n7           4     Bronz  Düşük değerli müşteri. Ortalamanın çok altında...  \n8           8     Altın  Orta değerli müşteri. Ortalamanın üzerinde sık...  \n9           9     Altın  Orta değerli müşteri. Ortalamanın üzerinde sık...  \n10         10  Platinum  Yüksek değerli müşteri. Ortalamanın çok üzerin...  \n11          3     Bronz  Düşük değerli müşteri. Ortalamanın çok altında...  \n12          9     Altın  Orta değerli müşteri. Ortalamanın üzerinde sık...  \n13          8     Altın  Orta değerli müşteri. Ortalamanın üzerinde sık...  \n14          8     Altın  Orta değerli müşteri. Ortalamanın üzerinde sık...  \n15          8     Altın  Orta değerli müşteri. Ortalamanın üzerinde sık...  \n16          6     Gümüş  Düşük-orta değerli müşteri. Ortalamanın altınd...  \n17          8     Altın  Orta değerli müşteri. Ortalamanın üzerinde sık...  \n18         10  Platinum  Yüksek değerli müşteri. Ortalamanın çok üzerin...  \n19          3     Bronz  Düşük değerli müşteri. Ortalamanın çok altında...  \n20         11  Platinum  Yüksek değerli müşteri. Ortalamanın çok üzerin...  \n21          9     Altın  Orta değerli müşteri. Ortalamanın üzerinde sık...  \n22          7     Gümüş  Düşük-orta değerli müşteri. Ortalamanın altınd...  \n23          8     Altın  Orta değerli müşteri. Ortalamanın üzerinde sık...  \n24          8     Altın  Orta değerli müşteri. Ortalamanın üzerinde sık...  \n25          5     Gümüş  Düşük-orta değerli müşteri. Ortalamanın altınd...  \n26          9     Altın  Orta değerli müşteri. Ortalamanın üzerinde sık...  \n27          3     Bronz  Düşük değerli müşteri. Ortalamanın çok altında...  \n28          6     Gümüş  Düşük-orta değerli müşteri. Ortalamanın altınd...  \n29          5     Gümüş  Düşük-orta değerli müşteri. Ortalamanın altınd...  \n30          5     Gümüş  Düşük-orta değerli müşteri. Ortalamanın altınd...  \n31          8     Altın  Orta değerli müşteri. Ortalamanın üzerinde sık...  \n32          5     Gümüş  Düşük-orta değerli müşteri. Ortalamanın altınd...  \n33          5     Gümüş  Düşük-orta değerli müşteri. Ortalamanın altınd...  \n34         11  Platinum  Yüksek değerli müşteri. Ortalamanın çok üzerin...  \n35          8     Altın  Orta değerli müşteri. Ortalamanın üzerinde sık...  \n36         11  Platinum  Yüksek değerli müşteri. Ortalamanın çok üzerin...  \n37          5     Gümüş  Düşük-orta değerli müşteri. Ortalamanın altınd...  \n38          8     Altın  Orta değerli müşteri. Ortalamanın üzerinde sık...  ",
      "text/html": "<div>\n<style scoped>\n    .dataframe tbody tr th:only-of-type {\n        vertical-align: middle;\n    }\n\n    .dataframe tbody tr th {\n        vertical-align: top;\n    }\n\n    .dataframe thead th {\n        text-align: right;\n    }\n</style>\n<table border=\"1\" class=\"dataframe\">\n  <thead>\n    <tr style=\"text-align: right;\">\n      <th></th>\n      <th>id</th>\n      <th>Recency</th>\n      <th>Frequency</th>\n      <th>Monetary</th>\n      <th>R</th>\n      <th>F</th>\n      <th>M</th>\n      <th>RFM_Segment</th>\n      <th>RFM_Score</th>\n      <th>Status</th>\n      <th>Description</th>\n    </tr>\n  </thead>\n  <tbody>\n    <tr>\n      <th>0</th>\n      <td>301002470</td>\n      <td>0</td>\n      <td>24792</td>\n      <td>7336237.24</td>\n      <td>3</td>\n      <td>3</td>\n      <td>4</td>\n      <td>3.03.04.0</td>\n      <td>10</td>\n      <td>Platinum</td>\n      <td>Yüksek değerli müşteri. Ortalamanın çok üzerin...</td>\n    </tr>\n    <tr>\n      <th>1</th>\n      <td>301002583</td>\n      <td>1037</td>\n      <td>143</td>\n      <td>2044.92</td>\n      <td>1</td>\n      <td>1</td>\n      <td>1</td>\n      <td>1.01.01.0</td>\n      <td>3</td>\n      <td>Bronz</td>\n      <td>Düşük değerli müşteri. Ortalamanın çok altında...</td>\n    </tr>\n    <tr>\n      <th>2</th>\n      <td>301003354</td>\n      <td>0</td>\n      <td>30616</td>\n      <td>2824086.73</td>\n      <td>3</td>\n      <td>4</td>\n      <td>3</td>\n      <td>3.04.03.0</td>\n      <td>10</td>\n      <td>Platinum</td>\n      <td>Yüksek değerli müşteri. Ortalamanın çok üzerin...</td>\n    </tr>\n    <tr>\n      <th>3</th>\n      <td>301006906</td>\n      <td>408</td>\n      <td>47613</td>\n      <td>2625627.54</td>\n      <td>1</td>\n      <td>4</td>\n      <td>3</td>\n      <td>1.04.03.0</td>\n      <td>8</td>\n      <td>Altın</td>\n      <td>Orta değerli müşteri. Ortalamanın üzerinde sık...</td>\n    </tr>\n    <tr>\n      <th>4</th>\n      <td>301009366</td>\n      <td>401</td>\n      <td>19129</td>\n      <td>1600709.59</td>\n      <td>2</td>\n      <td>3</td>\n      <td>2</td>\n      <td>2.03.02.0</td>\n      <td>7</td>\n      <td>Gümüş</td>\n      <td>Düşük-orta değerli müşteri. Ortalamanın altınd...</td>\n    </tr>\n    <tr>\n      <th>5</th>\n      <td>301009412</td>\n      <td>22</td>\n      <td>4</td>\n      <td>1228.17</td>\n      <td>3</td>\n      <td>1</td>\n      <td>1</td>\n      <td>3.01.01.0</td>\n      <td>5</td>\n      <td>Gümüş</td>\n      <td>Düşük-orta değerli müşteri. Ortalamanın altınd...</td>\n    </tr>\n    <tr>\n      <th>6</th>\n      <td>301009682</td>\n      <td>0</td>\n      <td>14961</td>\n      <td>19729153.60</td>\n      <td>3</td>\n      <td>1</td>\n      <td>4</td>\n      <td>3.01.04.0</td>\n      <td>8</td>\n      <td>Altın</td>\n      <td>Orta değerli müşteri. Ortalamanın üzerinde sık...</td>\n    </tr>\n    <tr>\n      <th>7</th>\n      <td>301010389</td>\n      <td>1264</td>\n      <td>16844</td>\n      <td>538330.90</td>\n      <td>1</td>\n      <td>2</td>\n      <td>1</td>\n      <td>1.02.01.0</td>\n      <td>4</td>\n      <td>Bronz</td>\n      <td>Düşük değerli müşteri. Ortalamanın çok altında...</td>\n    </tr>\n    <tr>\n      <th>8</th>\n      <td>301012873</td>\n      <td>0</td>\n      <td>21588</td>\n      <td>1016291.94</td>\n      <td>3</td>\n      <td>3</td>\n      <td>2</td>\n      <td>3.03.02.0</td>\n      <td>8</td>\n      <td>Altın</td>\n      <td>Orta değerli müşteri. Ortalamanın üzerinde sık...</td>\n    </tr>\n    <tr>\n      <th>9</th>\n      <td>301014561</td>\n      <td>0</td>\n      <td>19101</td>\n      <td>2268175.21</td>\n      <td>3</td>\n      <td>3</td>\n      <td>3</td>\n      <td>3.03.03.0</td>\n      <td>9</td>\n      <td>Altın</td>\n      <td>Orta değerli müşteri. Ortalamanın üzerinde sık...</td>\n    </tr>\n    <tr>\n      <th>10</th>\n      <td>301015331</td>\n      <td>0</td>\n      <td>25489</td>\n      <td>4813767.77</td>\n      <td>3</td>\n      <td>3</td>\n      <td>4</td>\n      <td>3.03.04.0</td>\n      <td>10</td>\n      <td>Platinum</td>\n      <td>Yüksek değerli müşteri. Ortalamanın çok üzerin...</td>\n    </tr>\n    <tr>\n      <th>11</th>\n      <td>301018129</td>\n      <td>1867</td>\n      <td>2</td>\n      <td>20.00</td>\n      <td>1</td>\n      <td>1</td>\n      <td>1</td>\n      <td>1.01.01.0</td>\n      <td>3</td>\n      <td>Bronz</td>\n      <td>Düşük değerli müşteri. Ortalamanın çok altında...</td>\n    </tr>\n    <tr>\n      <th>12</th>\n      <td>301019658</td>\n      <td>49</td>\n      <td>22879</td>\n      <td>4979624.90</td>\n      <td>2</td>\n      <td>3</td>\n      <td>4</td>\n      <td>2.03.04.0</td>\n      <td>9</td>\n      <td>Altın</td>\n      <td>Orta değerli müşteri. Ortalamanın üzerinde sık...</td>\n    </tr>\n    <tr>\n      <th>13</th>\n      <td>301020464</td>\n      <td>0</td>\n      <td>17642</td>\n      <td>3360962.51</td>\n      <td>3</td>\n      <td>2</td>\n      <td>3</td>\n      <td>3.02.03.0</td>\n      <td>8</td>\n      <td>Altın</td>\n      <td>Orta değerli müşteri. Ortalamanın üzerinde sık...</td>\n    </tr>\n    <tr>\n      <th>14</th>\n      <td>301021277</td>\n      <td>0</td>\n      <td>10150</td>\n      <td>11484870.63</td>\n      <td>3</td>\n      <td>1</td>\n      <td>4</td>\n      <td>3.01.04.0</td>\n      <td>8</td>\n      <td>Altın</td>\n      <td>Orta değerli müşteri. Ortalamanın üzerinde sık...</td>\n    </tr>\n    <tr>\n      <th>15</th>\n      <td>301023021</td>\n      <td>0</td>\n      <td>13794</td>\n      <td>21967130.96</td>\n      <td>3</td>\n      <td>1</td>\n      <td>4</td>\n      <td>3.01.04.0</td>\n      <td>8</td>\n      <td>Altın</td>\n      <td>Orta değerli müşteri. Ortalamanın üzerinde sık...</td>\n    </tr>\n    <tr>\n      <th>16</th>\n      <td>301024520</td>\n      <td>0</td>\n      <td>16228</td>\n      <td>767724.72</td>\n      <td>3</td>\n      <td>2</td>\n      <td>1</td>\n      <td>3.02.01.0</td>\n      <td>6</td>\n      <td>Gümüş</td>\n      <td>Düşük-orta değerli müşteri. Ortalamanın altınd...</td>\n    </tr>\n    <tr>\n      <th>17</th>\n      <td>301024729</td>\n      <td>108</td>\n      <td>30742</td>\n      <td>1029485.34</td>\n      <td>2</td>\n      <td>4</td>\n      <td>2</td>\n      <td>2.04.02.0</td>\n      <td>8</td>\n      <td>Altın</td>\n      <td>Orta değerli müşteri. Ortalamanın üzerinde sık...</td>\n    </tr>\n    <tr>\n      <th>18</th>\n      <td>301025172</td>\n      <td>0</td>\n      <td>49235</td>\n      <td>2640420.33</td>\n      <td>3</td>\n      <td>4</td>\n      <td>3</td>\n      <td>3.04.03.0</td>\n      <td>10</td>\n      <td>Platinum</td>\n      <td>Yüksek değerli müşteri. Ortalamanın çok üzerin...</td>\n    </tr>\n    <tr>\n      <th>19</th>\n      <td>301025251</td>\n      <td>1920</td>\n      <td>5</td>\n      <td>500.00</td>\n      <td>1</td>\n      <td>1</td>\n      <td>1</td>\n      <td>1.01.01.0</td>\n      <td>3</td>\n      <td>Bronz</td>\n      <td>Düşük değerli müşteri. Ortalamanın çok altında...</td>\n    </tr>\n    <tr>\n      <th>20</th>\n      <td>301025608</td>\n      <td>0</td>\n      <td>156603</td>\n      <td>12477600.41</td>\n      <td>3</td>\n      <td>4</td>\n      <td>4</td>\n      <td>3.04.04.0</td>\n      <td>11</td>\n      <td>Platinum</td>\n      <td>Yüksek değerli müşteri. Ortalamanın çok üzerin...</td>\n    </tr>\n    <tr>\n      <th>21</th>\n      <td>301026102</td>\n      <td>0</td>\n      <td>29082</td>\n      <td>1121508.94</td>\n      <td>3</td>\n      <td>4</td>\n      <td>2</td>\n      <td>3.04.02.0</td>\n      <td>9</td>\n      <td>Altın</td>\n      <td>Orta değerli müşteri. Ortalamanın üzerinde sık...</td>\n    </tr>\n    <tr>\n      <th>22</th>\n      <td>301026135</td>\n      <td>0</td>\n      <td>15193</td>\n      <td>2251433.01</td>\n      <td>3</td>\n      <td>1</td>\n      <td>3</td>\n      <td>3.01.03.0</td>\n      <td>7</td>\n      <td>Gümüş</td>\n      <td>Düşük-orta değerli müşteri. Ortalamanın altınd...</td>\n    </tr>\n    <tr>\n      <th>23</th>\n      <td>301026224</td>\n      <td>0</td>\n      <td>12117</td>\n      <td>10636344.66</td>\n      <td>3</td>\n      <td>1</td>\n      <td>4</td>\n      <td>3.01.04.0</td>\n      <td>8</td>\n      <td>Altın</td>\n      <td>Orta değerli müşteri. Ortalamanın üzerinde sık...</td>\n    </tr>\n    <tr>\n      <th>24</th>\n      <td>301026287</td>\n      <td>0</td>\n      <td>26731</td>\n      <td>1390167.81</td>\n      <td>3</td>\n      <td>3</td>\n      <td>2</td>\n      <td>3.03.02.0</td>\n      <td>8</td>\n      <td>Altın</td>\n      <td>Orta değerli müşteri. Ortalamanın üzerinde sık...</td>\n    </tr>\n    <tr>\n      <th>25</th>\n      <td>301026648</td>\n      <td>908</td>\n      <td>15463</td>\n      <td>914621.44</td>\n      <td>1</td>\n      <td>2</td>\n      <td>2</td>\n      <td>1.02.02.0</td>\n      <td>5</td>\n      <td>Gümüş</td>\n      <td>Düşük-orta değerli müşteri. Ortalamanın altınd...</td>\n    </tr>\n    <tr>\n      <th>26</th>\n      <td>301026840</td>\n      <td>139</td>\n      <td>78259</td>\n      <td>3601608.10</td>\n      <td>2</td>\n      <td>4</td>\n      <td>3</td>\n      <td>2.04.03.0</td>\n      <td>9</td>\n      <td>Altın</td>\n      <td>Orta değerli müşteri. Ortalamanın üzerinde sık...</td>\n    </tr>\n    <tr>\n      <th>27</th>\n      <td>301026958</td>\n      <td>904</td>\n      <td>10</td>\n      <td>35.25</td>\n      <td>1</td>\n      <td>1</td>\n      <td>1</td>\n      <td>1.01.01.0</td>\n      <td>3</td>\n      <td>Bronz</td>\n      <td>Düşük değerli müşteri. Ortalamanın çok altında...</td>\n    </tr>\n    <tr>\n      <th>28</th>\n      <td>301027114</td>\n      <td>99</td>\n      <td>17531</td>\n      <td>1713862.32</td>\n      <td>2</td>\n      <td>2</td>\n      <td>2</td>\n      <td>2.02.02.0</td>\n      <td>6</td>\n      <td>Gümüş</td>\n      <td>Düşük-orta değerli müşteri. Ortalamanın altınd...</td>\n    </tr>\n    <tr>\n      <th>29</th>\n      <td>301029464</td>\n      <td>346</td>\n      <td>18004</td>\n      <td>451458.73</td>\n      <td>2</td>\n      <td>2</td>\n      <td>1</td>\n      <td>2.02.01.0</td>\n      <td>5</td>\n      <td>Gümüş</td>\n      <td>Düşük-orta değerli müşteri. Ortalamanın altınd...</td>\n    </tr>\n    <tr>\n      <th>30</th>\n      <td>301029860</td>\n      <td>1428</td>\n      <td>18351</td>\n      <td>1517415.69</td>\n      <td>1</td>\n      <td>2</td>\n      <td>2</td>\n      <td>1.02.02.0</td>\n      <td>5</td>\n      <td>Gümüş</td>\n      <td>Düşük-orta değerli müşteri. Ortalamanın altınd...</td>\n    </tr>\n    <tr>\n      <th>31</th>\n      <td>301030119</td>\n      <td>0</td>\n      <td>17233</td>\n      <td>2333811.07</td>\n      <td>3</td>\n      <td>2</td>\n      <td>3</td>\n      <td>3.02.03.0</td>\n      <td>8</td>\n      <td>Altın</td>\n      <td>Orta değerli müşteri. Ortalamanın üzerinde sık...</td>\n    </tr>\n    <tr>\n      <th>32</th>\n      <td>301030448</td>\n      <td>62</td>\n      <td>18257</td>\n      <td>558967.49</td>\n      <td>2</td>\n      <td>2</td>\n      <td>1</td>\n      <td>2.02.01.0</td>\n      <td>5</td>\n      <td>Gümüş</td>\n      <td>Düşük-orta değerli müşteri. Ortalamanın altınd...</td>\n    </tr>\n    <tr>\n      <th>33</th>\n      <td>301031149</td>\n      <td>890</td>\n      <td>28990</td>\n      <td>804918.38</td>\n      <td>1</td>\n      <td>3</td>\n      <td>1</td>\n      <td>1.03.01.0</td>\n      <td>5</td>\n      <td>Gümüş</td>\n      <td>Düşük-orta değerli müşteri. Ortalamanın altınd...</td>\n    </tr>\n    <tr>\n      <th>34</th>\n      <td>301031272</td>\n      <td>0</td>\n      <td>33832</td>\n      <td>5116620.73</td>\n      <td>3</td>\n      <td>4</td>\n      <td>4</td>\n      <td>3.04.04.0</td>\n      <td>11</td>\n      <td>Platinum</td>\n      <td>Yüksek değerli müşteri. Ortalamanın çok üzerin...</td>\n    </tr>\n    <tr>\n      <th>35</th>\n      <td>301031339</td>\n      <td>55</td>\n      <td>27735</td>\n      <td>2338707.81</td>\n      <td>2</td>\n      <td>3</td>\n      <td>3</td>\n      <td>2.03.03.0</td>\n      <td>8</td>\n      <td>Altın</td>\n      <td>Orta değerli müşteri. Ortalamanın üzerinde sık...</td>\n    </tr>\n    <tr>\n      <th>36</th>\n      <td>301032425</td>\n      <td>1</td>\n      <td>52465</td>\n      <td>5381687.90</td>\n      <td>3</td>\n      <td>4</td>\n      <td>4</td>\n      <td>3.04.04.0</td>\n      <td>11</td>\n      <td>Platinum</td>\n      <td>Yüksek değerli müşteri. Ortalamanın çok üzerin...</td>\n    </tr>\n    <tr>\n      <th>37</th>\n      <td>301032496</td>\n      <td>1064</td>\n      <td>18673</td>\n      <td>1122833.54</td>\n      <td>1</td>\n      <td>2</td>\n      <td>2</td>\n      <td>1.02.02.0</td>\n      <td>5</td>\n      <td>Gümüş</td>\n      <td>Düşük-orta değerli müşteri. Ortalamanın altınd...</td>\n    </tr>\n    <tr>\n      <th>38</th>\n      <td>301033049</td>\n      <td>138</td>\n      <td>34514</td>\n      <td>1748947.07</td>\n      <td>2</td>\n      <td>4</td>\n      <td>2</td>\n      <td>2.04.02.0</td>\n      <td>8</td>\n      <td>Altın</td>\n      <td>Orta değerli müşteri. Ortalamanın üzerinde sık...</td>\n    </tr>\n  </tbody>\n</table>\n</div>"
     },
     "execution_count": 61,
     "metadata": {},
     "output_type": "execute_result"
    }
   ],
   "source": [
    "rfm"
   ],
   "metadata": {
    "collapsed": false,
    "ExecuteTime": {
     "end_time": "2023-11-02T07:54:17.775153Z",
     "start_time": "2023-11-02T07:54:17.704370Z"
    }
   },
   "id": "e3511593544eace"
  },
  {
   "cell_type": "code",
   "execution_count": null,
   "outputs": [],
   "source": [],
   "metadata": {
    "collapsed": false
   },
   "id": "275512d19239556b"
  }
 ],
 "metadata": {
  "kernelspec": {
   "display_name": "Python 3",
   "language": "python",
   "name": "python3"
  },
  "language_info": {
   "codemirror_mode": {
    "name": "ipython",
    "version": 2
   },
   "file_extension": ".py",
   "mimetype": "text/x-python",
   "name": "python",
   "nbconvert_exporter": "python",
   "pygments_lexer": "ipython2",
   "version": "2.7.6"
  }
 },
 "nbformat": 4,
 "nbformat_minor": 5
}
